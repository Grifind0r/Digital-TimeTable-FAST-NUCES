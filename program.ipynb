{
 "cells": [
  {
   "cell_type": "markdown",
   "metadata": {},
   "source": [
    "# Digital TimeTable"
   ]
  },
  {
   "cell_type": "markdown",
   "metadata": {},
   "source": [
    "### importing necessary libraries"
   ]
  },
  {
   "cell_type": "code",
   "execution_count": null,
   "metadata": {},
   "outputs": [],
   "source": [
    "import pandas as pd\n",
    "import numpy as np\n",
    "import json"
   ]
  },
  {
   "cell_type": "markdown",
   "metadata": {},
   "source": [
    "### Reading the timetable excel file(remove first page of timetable) watch Youtube video for more info"
   ]
  },
  {
   "cell_type": "code",
   "execution_count": 25,
   "metadata": {},
   "outputs": [],
   "source": [
    "timeTable= pd.read_excel(\"TimeTableF22.xlsx\", sheet_name= None, skiprows=[1,2,3], header= 1, index_col = \"Room\")\n"
   ]
  },
  {
   "cell_type": "code",
   "execution_count": 26,
   "metadata": {},
   "outputs": [
    {
     "data": {
      "text/plain": [
       "dict_keys(['Monday', 'Tuesday', 'Wednesday', 'Thursday', 'Friday'])"
      ]
     },
     "execution_count": 26,
     "metadata": {},
     "output_type": "execute_result"
    }
   ],
   "source": [
    "timeTable.keys()"
   ]
  },
  {
   "cell_type": "markdown",
   "metadata": {},
   "source": [
    "### Spliting classes and labs data"
   ]
  },
  {
   "cell_type": "code",
   "execution_count": 28,
   "metadata": {},
   "outputs": [],
   "source": [
    "classes={}\n",
    "labs={}\n",
    "for i in timeTable.keys():\n",
    "    x= timeTable[i][:\"Lab\"]\n",
    "    x= x.drop(x.index[-1])\n",
    "    x.dropna(thresh = 1, axis=1, inplace = True)\n",
    "    x.fillna(\"Empty\",inplace=True)\n",
    "    classes[i]=x\n",
    "\n",
    "    y= timeTable[i][\"Lab\":]\n",
    "    y= y.rename(columns=y.iloc[0]).drop(y.index[0])\n",
    "    y.dropna(thresh = 1, axis=1, inplace = True)\n",
    "    y.fillna(\"Empty\",inplace=True)\n",
    "    labs[i]=y\n"
   ]
  },
  {
   "cell_type": "code",
   "execution_count": 30,
   "metadata": {},
   "outputs": [],
   "source": [
    "del timeTable"
   ]
  },
  {
   "cell_type": "markdown",
   "metadata": {},
   "source": [
    "### Removing nan column names from labs"
   ]
  },
  {
   "cell_type": "code",
   "execution_count": 31,
   "metadata": {},
   "outputs": [],
   "source": [
    "\n",
    "for day in labs.keys():\n",
    "    new_cols=[]\n",
    "    i=0\n",
    "    for i in range(len((labs[day].columns).isna())):\n",
    "        if (labs[day].columns).isna()[i] == True:\n",
    "            new_cols.append('Nothing'+str(i))\n",
    "            i+=1\n",
    "        else:\n",
    "            new_cols.append(labs[day].columns[i])\n",
    "    labs[day].columns= new_cols\n"
   ]
  },
  {
   "cell_type": "markdown",
   "metadata": {},
   "source": [
    "### Making tupples containing classes and labs info(Time, Room , Week)"
   ]
  },
  {
   "cell_type": "code",
   "execution_count": 32,
   "metadata": {},
   "outputs": [],
   "source": [
    "classes_info= []\n",
    "for week in classes.keys():\n",
    "    for room in classes[week].index:\n",
    "        for time in classes[week].columns:\n",
    "            class_name= classes[week].loc[room][time]\n",
    "            if(class_name!='Empty'):\n",
    "                if(len(class_name.split(':'))>1):\n",
    "                    classes_info.append((week, room, class_name.split(' ')[-1], class_name))\n",
    "                else:\n",
    "                    classes_info.append((week, room, time, class_name))\n",
    "\n",
    "                        \n",
    "            "
   ]
  },
  {
   "cell_type": "code",
   "execution_count": 33,
   "metadata": {},
   "outputs": [],
   "source": [
    "labs_info= []\n",
    "for week in labs.keys():\n",
    "    for room in labs[week].index:\n",
    "        for time in labs[week].columns:\n",
    "            lab_name= labs[week].loc[room][time]\n",
    "\n",
    "            if(lab_name!='Empty'):\n",
    "                if(len(lab_name.split(':'))>1):\n",
    "                    labs_info.append((week, room, lab_name.split(' ')[-1], lab_name))\n",
    "                else:\n",
    "                    labs_info.append((week, room, time, lab_name))\n"
   ]
  },
  {
   "cell_type": "markdown",
   "metadata": {},
   "source": [
    "### Saving the info in json format"
   ]
  },
  {
   "cell_type": "code",
   "execution_count": 49,
   "metadata": {},
   "outputs": [],
   "source": [
    "with open('classesDat.json', 'w') as f:\n",
    "    json.dump(classes_info, f)\n",
    "with open('labsDat.json', 'w') as f:\n",
    "    json.dump(labs_info, f)\n"
   ]
  },
  {
   "cell_type": "markdown",
   "metadata": {},
   "source": [
    "### Loading the json files"
   ]
  },
  {
   "cell_type": "code",
   "execution_count": 50,
   "metadata": {},
   "outputs": [],
   "source": [
    "with open('classesDat.json', 'r') as f:\n",
    "    classes_info = json.load(f)\n",
    "with open('labsDat.json', 'r') as f:\n",
    "    labs_info = json.load(f)"
   ]
  },
  {
   "cell_type": "markdown",
   "metadata": {},
   "source": [
    "### Functions to extract info of a specific subject"
   ]
  },
  {
   "cell_type": "code",
   "execution_count": 53,
   "metadata": {},
   "outputs": [],
   "source": [
    "def func(subject, type):\n",
    "    to_return=[]\n",
    "    if (type== 'class'):\n",
    "        for i in range(len(classes_info)):\n",
    "            if(classes_info[i][-1]== subject):\n",
    "                to_return.append('Day: '+str(classes_info[i][0])+'   Room: '+str(classes_info[i][1])+ '   Time: '+str(classes_info[i][2]))\n",
    "    elif(type== 'lab'):\n",
    "        for i in range(len(labs_info)):\n",
    "            if(labs_info[i][-1]== subject):\n",
    "                to_return.append('Day: '+str(labs_info[i][0])+'   Room: '+str(labs_info[i][1])+ '   Time: '+str(labs_info[i][2]) )\n",
    "\n",
    "    return to_return\n",
    "\n",
    "    \n"
   ]
  },
  {
   "cell_type": "markdown",
   "metadata": {},
   "source": [
    "### Main Program"
   ]
  },
  {
   "cell_type": "code",
   "execution_count": 58,
   "metadata": {},
   "outputs": [
    {
     "name": "stdout",
     "output_type": "stream",
     "text": [
      "Subject name should match the way it is written in the timetable. i.e., PF (CS-A)\n",
      "\n",
      "\n",
      "Press q to exit\n",
      "Day: Monday   Room: C-301   Time: 08:30-09:50\n",
      "Day: Wednesday   Room: C-301   Time: 08:30-09:50\n"
     ]
    }
   ],
   "source": [
    "print('Subject name should match the way it is written in the timetable. i.e., PF (CS-A)\\n\\n\\nPress q to exit')\n",
    "subject='init'\n",
    "while(1):\n",
    "    subject= input('Enter the subject: ')\n",
    "    if(subject=='q'):\n",
    "        break\n",
    "    type= input('Is it a lab or class(input in lower case): ')\n",
    "    output= func(subject, type)\n",
    "\n",
    "    for i in output:\n",
    "        print(i)"
   ]
  },
  {
   "cell_type": "code",
   "execution_count": null,
   "metadata": {},
   "outputs": [],
   "source": []
  }
 ],
 "metadata": {
  "kernelspec": {
   "display_name": "Python 3",
   "language": "python",
   "name": "python3"
  },
  "language_info": {
   "codemirror_mode": {
    "name": "ipython",
    "version": 3
   },
   "file_extension": ".py",
   "mimetype": "text/x-python",
   "name": "python",
   "nbconvert_exporter": "python",
   "pygments_lexer": "ipython3",
   "version": "3.12.0"
  }
 },
 "nbformat": 4,
 "nbformat_minor": 2
}
